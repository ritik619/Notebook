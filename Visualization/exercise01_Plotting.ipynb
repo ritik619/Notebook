{
 "cells": [
  {
   "cell_type": "markdown",
   "metadata": {},
   "source": [
    "## e1 Year wise GDP data of three countries given below.\n",
    "### years = [1950, 1960, 1970, 1980, 1990, 2000, 2010]\n",
    "### country1_gdp = [300.2, 543.3, 1075.9, 2862.5, 5979.6, 10289.7, 14958.3]\n",
    "### country2_gdp = [30.2, 240.3, 675.9, 1262.5, 3579.6, 7089.7, 10958.3]\n",
    "### country3_gdp = [10.2, 27.3, 65.9, 362.5, 359.6, 789.7, 1058.3]\n",
    "### Plot the line graph which shows the year wise performance of each country."
   ]
  },
  {
   "cell_type": "markdown",
   "metadata": {},
   "source": [
    "## e2. You have iris.csv file. Perform following tasks.\n",
    "### 1.1 Load the iris dataset.\n",
    "### 2.2 Plot the frequency of values as Bar plot [ different graph for each feature].\n",
    "### 2.3 Plot the box plot for each feature.\n",
    "### 2.4 Make pair of two-two features and plot the 2-D scatter plots.\n",
    "### 2.5 Make pair of three-three features and plot 3-D scatter plots. [If you have executed advanced ploting code]\n",
    "### 2.6 Try to infer information from the scatter plots. (what could be best set of features for classification of data)"
   ]
  },
  {
   "cell_type": "markdown",
   "metadata": {
    "collapsed": true
   },
   "source": [
    "## e3. WAP to perform the following task in sequence:\n",
    "### Ask user to enter the number of parties competed in the last election.\n",
    "### Ask user to enter the party name & seat count of each party in the election result.\n",
    "### Draw the Pie chart to visualize the collected information."
   ]
  },
  {
   "cell_type": "code",
   "execution_count": null,
   "metadata": {
    "collapsed": true
   },
   "outputs": [],
   "source": []
  }
 ],
 "metadata": {
  "kernelspec": {
   "display_name": "Python 3",
   "language": "python",
   "name": "python3"
  },
  "language_info": {
   "codemirror_mode": {
    "name": "ipython",
    "version": 3
   },
   "file_extension": ".py",
   "mimetype": "text/x-python",
   "name": "python",
   "nbconvert_exporter": "python",
   "pygments_lexer": "ipython3",
   "version": "3.6.2"
  }
 },
 "nbformat": 4,
 "nbformat_minor": 2
}
