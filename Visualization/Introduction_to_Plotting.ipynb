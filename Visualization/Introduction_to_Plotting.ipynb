{
 "cells": [
  {
   "cell_type": "markdown",
   "metadata": {
    "collapsed": true
   },
   "source": [
    "# Python Library for Plotting: matplotlib"
   ]
  },
  {
   "cell_type": "markdown",
   "metadata": {},
   "source": [
    "# Line Plotting"
   ]
  },
  {
   "cell_type": "code",
   "execution_count": null,
   "metadata": {},
   "outputs": [],
   "source": [
    "import matplotlib.pyplot as plt\n",
    "\n",
    "plt.plot([3,4],[3, 6])\n",
    "plt.show()\n"
   ]
  },
  {
   "cell_type": "code",
   "execution_count": null,
   "metadata": {},
   "outputs": [],
   "source": [
    "x = [2,9]\n",
    "y = [4,8]\n",
    "plt.ylabel('Y-Label')\n",
    "plt.xlabel('X-Label')\n",
    "plt.title('Title')\n",
    "plt.plot(x,y,'r')\n",
    "plt.show()"
   ]
  },
  {
   "cell_type": "code",
   "execution_count": null,
   "metadata": {},
   "outputs": [],
   "source": [
    "plt.plot([1, 2, 3, 4], [1, 4, 9, 16], 'r')\n",
    "#plt.plot([1, 2, 3, 4], [1, 4, 9, 16], '+')\n",
    "#plt.plot([1, 2, 3, 4], [1, 4, 9, 16], c='r', marker= '*')\n",
    "#plt.plot([1, 2, 3, 4], [1, 4, 9, 16],'*')\n",
    "plt.show()"
   ]
  },
  {
   "cell_type": "code",
   "execution_count": null,
   "metadata": {},
   "outputs": [],
   "source": [
    "import numpy as np\n",
    "t = np.arange(1.0, 5.0, 0.2)\n",
    "\n",
    "plt.plot(t, t, 'r--')\n",
    "plt.plot(t, t**2, 'bs')\n",
    "plt.plot(t, t**3, 'g^')\n",
    "plt.show()"
   ]
  },
  {
   "cell_type": "code",
   "execution_count": null,
   "metadata": {},
   "outputs": [],
   "source": [
    "x = np.arange(0,10) \n",
    "y = x ** 1.5\n",
    "z = x ** 2\n",
    "\n",
    "print(x,y,z)\n",
    "plt.title(\"Graph\") \n",
    "plt.xlabel(\"X\") \n",
    "plt.ylabel(\"Y\") \n",
    "plt.plot(x,y)\n",
    "\n",
    "plt.plot(x,z)\n",
    "plt.legend(['d1', 'd2'])\n",
    "plt.show()"
   ]
  },
  {
   "cell_type": "markdown",
   "metadata": {},
   "source": [
    "# Box Plot"
   ]
  },
  {
   "cell_type": "code",
   "execution_count": null,
   "metadata": {},
   "outputs": [],
   "source": [
    "#data = np.array([8,5,4,5,6,7,7])\n",
    "data = [[8,5,4,5,6,7,7],[8,5,4,4,9,7,7]]\n",
    "plt.boxplot(data)\n",
    "plt.show()\n",
    "print('Max:\\t',np.min(data))\n",
    "print('Min:\\t',np.max(data))\n",
    "print('Median:\\t', np.median(data))\n"
   ]
  },
  {
   "cell_type": "code",
   "execution_count": null,
   "metadata": {},
   "outputs": [],
   "source": [
    "import pandas as pd\n",
    "data = {'col1':[2,5,7,85,86,45],'col2':[12,14,29,41,4,66], 'col3':[11,87,234,5,34,76]}\n",
    "df = pd.DataFrame(data)\n",
    "#print(df)\n",
    "df.boxplot()\n",
    "plt.show()\n"
   ]
  },
  {
   "cell_type": "markdown",
   "metadata": {
    "collapsed": true
   },
   "source": [
    "# Scatter Plot"
   ]
  },
  {
   "cell_type": "code",
   "execution_count": null,
   "metadata": {},
   "outputs": [],
   "source": [
    "x = np.random.random(20)\n",
    "y = np.random.random(20)\n",
    "plt.scatter(x,y)\n",
    "plt.show()"
   ]
  },
  {
   "cell_type": "code",
   "execution_count": null,
   "metadata": {},
   "outputs": [],
   "source": [
    "x = np.random.random(200)\n",
    "y = np.random.random(200)\n",
    "colors = np.random.random(200)\n",
    "\n",
    "plt.ylabel('Y-Label')\n",
    "plt.xlabel('X-Label')\n",
    "plt.title('Scatter Plotting',alpha=0.2)\n",
    "plt.scatter(x,y,c = colors, alpha=0.5)\n",
    "plt.show()"
   ]
  },
  {
   "cell_type": "code",
   "execution_count": null,
   "metadata": {},
   "outputs": [],
   "source": [
    "x = np.random.random(200)\n",
    "y = np.random.random(200)\n",
    "colors = np.random.random(200)\n",
    "area = (np.random.random(200)**2)*np.pi\n",
    "plt.ylabel('Y-Label')\n",
    "plt.xlabel('X-Label')\n",
    "plt.title('Scatter Plotting',alpha=0.2)\n",
    "plt.scatter(x,y,s = area*40, c = colors, cmap='hsv', alpha=0.6)\n",
    "plt.show()"
   ]
  },
  {
   "cell_type": "code",
   "execution_count": null,
   "metadata": {},
   "outputs": [],
   "source": [
    "x = np.random.random(200)\n",
    "y = np.random.random(200)\n",
    "\n",
    "plt.ylabel('Y-Label')\n",
    "plt.xlabel('X-Label')\n",
    "plt.title('Scatter Plotting',alpha=0.2)\n",
    "plt.scatter(x,y, alpha=0.5,marker='P') # try markers 1,p,s,6.....\n",
    "plt.show()"
   ]
  },
  {
   "cell_type": "code",
   "execution_count": null,
   "metadata": {},
   "outputs": [],
   "source": [
    "import pandas as pd\n",
    "df = pd.read_csv('iris.csv',sep=',')\n",
    "df.head()"
   ]
  },
  {
   "cell_type": "code",
   "execution_count": null,
   "metadata": {},
   "outputs": [],
   "source": [
    "plt.ylabel('Y-Label')\n",
    "plt.xlabel('X-Label')\n",
    "plt.title('Scatter Plotting')\n",
    "#plt.scatter(np.array(df['sepal_length']),np.array(df['sepal_width']), marker='3', c= df['sepal_width'], cmap='hsv' )\n",
    "plt.scatter((df['sepal_length']),(df['sepal_width']), marker='3', c= df['plant'] ) \n",
    "plt.show()"
   ]
  },
  {
   "cell_type": "markdown",
   "metadata": {
    "collapsed": true
   },
   "source": [
    "# Bar Plot"
   ]
  },
  {
   "cell_type": "code",
   "execution_count": null,
   "metadata": {},
   "outputs": [],
   "source": [
    "# Simple Bar plot\n",
    "\n",
    "import numpy as np\n",
    "import matplotlib.pyplot as plt\n",
    "\n",
    "y = np.random.rand(50)*10\n",
    "\n",
    "plt.bar(range(0,100,2), y)\n",
    "plt.show()"
   ]
  },
  {
   "cell_type": "code",
   "execution_count": null,
   "metadata": {},
   "outputs": [],
   "source": [
    "# Bar plot with custom labels\n",
    "\n",
    "year = [2001,2002,2003,2004,2005,2006,2007,2008,2009,2010]\n",
    "runs = [\n",
    "    941,\n",
    "    854,\n",
    "    1595,\n",
    "    625,\n",
    "    942,\n",
    "    509,\n",
    "    548,\n",
    "    749,\n",
    "    1052,\n",
    "    961\n",
    "]\n",
    "\n",
    "\n",
    "plt.bar(year, runs)\n",
    "plt.xlabel('Year', fontsize=20)\n",
    "plt.ylabel('Runs scored', fontsize=20)\n",
    "plt.title('Number of runs scored by VK from 2001 to 2010',fontsize=30)\n",
    "plt.show()\n",
    "\n"
   ]
  },
  {
   "cell_type": "code",
   "execution_count": null,
   "metadata": {},
   "outputs": [],
   "source": [
    "# Horizontal Bar plot\n",
    "\n",
    "plt.barh(year, runs, align='center', alpha=0.5)\n",
    "plt.ylabel('Year', fontsize=20)\n",
    "plt.xlabel('Runs scored', fontsize=20)\n",
    "plt.title('Number of runs scored by VK from 2001 to 2010',fontsize=30)\n",
    " \n",
    "plt.show()"
   ]
  },
  {
   "cell_type": "code",
   "execution_count": null,
   "metadata": {},
   "outputs": [],
   "source": [
    "# Stacked Bar plot\n",
    "\n",
    "import pandas as pd\n",
    "\n",
    "\n",
    "r = [0,1,2,3,4]\n",
    "greenBars = np.array([20, 1.5, 7, 10, 5])\n",
    "orangeBars =  np.array([5, 15, 5, 10, 15])\n",
    "\n",
    "\n",
    "totals = orangeBars + greenBars\n",
    "print('total: ',totals)\n",
    "\n",
    "greenBars = greenBars/totals*100\n",
    "print('greenBars: ',greenBars)\n",
    "\n",
    "orangeBars = orangeBars/totals*100\n",
    "print('orangeBars',orangeBars)\n",
    "\n",
    "\n",
    "names = ('A','B','C','D','E')\n",
    "\n",
    "plt.bar(r, greenBars, color='#b5ffb9', edgecolor='white')\n",
    "plt.bar(r, orangeBars, bottom=greenBars, color='#f9bc86')\n",
    "\n",
    "plt.xticks(r, names)\n",
    "\n",
    "plt.show()"
   ]
  },
  {
   "cell_type": "markdown",
   "metadata": {
    "collapsed": true
   },
   "source": [
    "# Pie Chart"
   ]
  },
  {
   "cell_type": "code",
   "execution_count": null,
   "metadata": {},
   "outputs": [],
   "source": [
    "# Basic Pie Chart\n",
    "\n",
    "#import matplotlib.pyplot as plt\n",
    "\n",
    "labels = 'USA','India','Japan','China'\n",
    "sizes = [30, 15, 45, 10]\n",
    "\n",
    "plt.pie(sizes,labels=labels)\n",
    "\n",
    "plt.show()"
   ]
  },
  {
   "cell_type": "code",
   "execution_count": null,
   "metadata": {},
   "outputs": [],
   "source": [
    "# Adding more styling \n",
    "\n",
    "labels = ['USA','India','Japan','China']\n",
    "sizes = [30, 15, 45, 10]\n",
    "explode = (0, 0.1, 0, 0)\n",
    "\n",
    "plt.pie(sizes, explode=explode, labels=labels, autopct='%1.2f%%', shadow=True, startangle=270)\n",
    "plt.axis('equal')  \n",
    "\n",
    "plt.show()"
   ]
  },
  {
   "cell_type": "markdown",
   "metadata": {},
   "source": [
    "# Advanced Plots"
   ]
  },
  {
   "cell_type": "code",
   "execution_count": null,
   "metadata": {},
   "outputs": [],
   "source": [
    "import numpy as np\n",
    "import matplotlib.pyplot as plt\n",
    "\n",
    "t = np.arange(1.0, 5.0, 0.2)\n",
    "\n",
    "\n",
    "plt.subplot(2, 2, 1)\n",
    "plt.plot(t, t, 'r--')\n",
    "\n",
    "plt.subplot(2, 2, 2)\n",
    "plt.plot(t, t**2, 'bs')\n",
    "\n",
    "plt.subplot(2, 2, 3)\n",
    "plt.plot(t, t**3, 'g^')\n",
    "\n",
    "plt.subplot(2, 2, 4)\n",
    "plt.plot(t, t**4, 'g^')\n",
    "\n",
    "plt.show()"
   ]
  },
  {
   "cell_type": "code",
   "execution_count": null,
   "metadata": {},
   "outputs": [],
   "source": [
    "from mpl_toolkits.mplot3d import Axes3D \n",
    "fig = plt.figure()\n",
    "ax = fig.add_subplot(111, projection='3d')\n",
    "ax.set_ylabel('sepal width')\n",
    "ax.set_xlabel('sepal length')\n",
    "ax.set_zlabel('patel width')\n",
    "ax.set_title('Scatter Plotting')\n",
    "ax.scatter(df['sepal_length'],df['sepal_width'], df['petal_width'], c = df['plant']*2)\n",
    "\n",
    "plt.show()"
   ]
  },
  {
   "cell_type": "code",
   "execution_count": null,
   "metadata": {},
   "outputs": [],
   "source": [
    "\n",
    "\n",
    "# Compute areas and colors\n",
    "N = 200\n",
    "r = 2 * np.random.rand(N)\n",
    "theta = 2 * np.pi * r\n",
    "area = 20 * r**2\n",
    "colors = theta\n",
    "\n",
    "fig = plt.figure()\n",
    "ax = fig.add_subplot(111, projection='polar')\n",
    "c = ax.scatter(theta, r, c=colors, s=area, cmap='hsv', alpha=0.9)\n",
    "plt.plot()\n",
    "plt.show()"
   ]
  }
 ],
 "metadata": {
  "kernelspec": {
   "display_name": "Python 3",
   "language": "python",
   "name": "python3"
  },
  "language_info": {
   "codemirror_mode": {
    "name": "ipython",
    "version": 3
   },
   "file_extension": ".py",
   "mimetype": "text/x-python",
   "name": "python",
   "nbconvert_exporter": "python",
   "pygments_lexer": "ipython3",
   "version": "3.6.2"
  }
 },
 "nbformat": 4,
 "nbformat_minor": 2
}
